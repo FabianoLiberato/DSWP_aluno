{
  "nbformat": 4,
  "nbformat_minor": 0,
  "metadata": {
    "colab": {
      "name": "NB10_04__3DP_4_Anomaly_Detection.ipynb",
      "provenance": [],
      "collapsed_sections": [],
      "toc_visible": true,
      "include_colab_link": true
    },
    "kernelspec": {
      "name": "python3",
      "display_name": "Python 3"
    }
  },
  "cells": [
    {
      "cell_type": "markdown",
      "metadata": {
        "id": "view-in-github",
        "colab_type": "text"
      },
      "source": [
        "<a href=\"https://colab.research.google.com/github/FabianoLiberato/DSWP_aluno/blob/main/Notebooks/2020_11_18_NB10_04__3DP_4_Anomaly_Detection.ipynb\" target=\"_parent\"><img src=\"https://colab.research.google.com/assets/colab-badge.svg\" alt=\"Open In Colab\"/></a>"
      ]
    },
    {
      "cell_type": "markdown",
      "metadata": {
        "id": "EAqSDJGzyYrx"
      },
      "source": [
        "<center><h1><b><i>3DP_4 - ANOMALY/OUTLIER DETECTION</i></b></h1></center>\n",
        "\n"
      ]
    },
    {
      "cell_type": "markdown",
      "metadata": {
        "id": "H-VrOjTTymSK"
      },
      "source": [
        "# **AGENDA**:\n",
        "\n",
        "> Consulte a **Table of contents**."
      ]
    },
    {
      "cell_type": "markdown",
      "metadata": {
        "id": "wSAsbafemNax"
      },
      "source": [
        "# **Melhorias da sessão**\n",
        "* Mostrar junto os gráficos com a região de Anomaly Score junto com a distribuição de probabilidade das variáveis envolvidas.\n",
        "* Mensagens de deprecating --> Analisar e substituir os métodos, funções deprecated;\n"
      ]
    },
    {
      "cell_type": "markdown",
      "metadata": {
        "id": "7qK6Yx0tBqUz"
      },
      "source": [
        "___\n",
        "# **Referências**\n",
        "* [Comparing anomaly detection algorithms for outlier detection on toy datasets](https://scikit-learn.org/stable/auto_examples/plot_anomaly_comparison.html#sphx-glr-auto-examples-plot-anomaly-comparison-py)\n",
        "* [Outlier detection with several methods](https://scikit-learn.org/0.18/auto_examples/covariance/plot_outlier_detection.html)\n",
        "* [anomaly-detection-resources](https://github.com/MathMachado/anomaly-detection-resources)\n",
        "* [Outlier Detection with Extended Isolation Forest](https://towardsdatascience.com/outlier-detection-with-extended-isolation-forest-1e248a3fe97b)\n",
        "* [Outlier Detection with Isolation Forest](https://towardsdatascience.com/outlier-detection-with-isolation-forest-3d190448d45e)."
      ]
    },
    {
      "cell_type": "markdown",
      "metadata": {
        "id": "f7tTnUJ6B2UG"
      },
      "source": [
        "___\n",
        "## O que é Anomaly Detection (= Análise de Outliers)?\n",
        "> Qualquer ponto/observação que é incomum quando comparado com todos os outros pontos/observações."
      ]
    },
    {
      "cell_type": "markdown",
      "metadata": {
        "id": "7VJZf1U5Ds_w"
      },
      "source": [
        "___\n",
        "# **Machine Learning com Python (Scikit-Learn)**\n",
        "\n",
        "![Scikit-Learn](https://github.com/MathMachado/Materials/blob/master/scikit-learn-1.png?raw=true)"
      ]
    },
    {
      "cell_type": "markdown",
      "metadata": {
        "id": "rpHJ1qVUEwOn"
      },
      "source": [
        "___\n",
        "# **Técnicas tradicionais para detecção de outliers**"
      ]
    },
    {
      "cell_type": "markdown",
      "metadata": {
        "id": "OOI_VTo3E3sv"
      },
      "source": [
        "## Boxplot\n",
        "* $IQR = Q_{3}-Q_{1}$\n",
        "\n",
        "![BoxPlot](https://github.com/MathMachado/Materials/blob/master/boxplot.png?raw=true)"
      ]
    },
    {
      "cell_type": "markdown",
      "metadata": {
        "id": "vivFsmJGFVC0"
      },
      "source": [
        "## Z-Score\n",
        "* Z-Score pode ser utilizado para detectar Outliers.\n",
        "* É a diferença entre o valor e a média da amostra expressa como o número de desvios-padrão. \n",
        "* Se o escore z for menor que 2,5 ou maior que 2,5, o valor estará nos 5% do menor ou maior valor (2,5% dos valores em ambas as extremidades da distribuição). No entanto, é pratica comum utilizarmos 3 ao invés dos 2,5.\n",
        "\n",
        "![Z_Score](https://github.com/MathMachado/Materials/blob/master/Z_Score.png?raw=true)"
      ]
    },
    {
      "cell_type": "markdown",
      "metadata": {
        "id": "7_YohlTIF8zi"
      },
      "source": [
        "___\n",
        "# **Hands-On**"
      ]
    },
    {
      "cell_type": "markdown",
      "metadata": {
        "id": "OrXdGg8t0V_D"
      },
      "source": [
        "## Carrega as Bibliotecas necessárias"
      ]
    },
    {
      "cell_type": "code",
      "metadata": {
        "id": "7pYqwxIe1Hcq",
        "outputId": "0f5ca63b-237d-4128-a630-c72fb92143b5",
        "colab": {
          "base_uri": "https://localhost:8080/"
        }
      },
      "source": [
        "!pip install pyod"
      ],
      "execution_count": 1,
      "outputs": [
        {
          "output_type": "stream",
          "text": [
            "Collecting pyod\n",
            "\u001b[?25l  Downloading https://files.pythonhosted.org/packages/2b/1d/22a6c4e796fff1066bf80bf59b4494d6e3582e22012a61721f4cb730b3c3/pyod-0.8.4.tar.gz (98kB)\n",
            "\r\u001b[K     |███▎                            | 10kB 17.6MB/s eta 0:00:01\r\u001b[K     |██████▋                         | 20kB 11.6MB/s eta 0:00:01\r\u001b[K     |██████████                      | 30kB 8.3MB/s eta 0:00:01\r\u001b[K     |█████████████▎                  | 40kB 7.2MB/s eta 0:00:01\r\u001b[K     |████████████████▋               | 51kB 4.3MB/s eta 0:00:01\r\u001b[K     |████████████████████            | 61kB 4.7MB/s eta 0:00:01\r\u001b[K     |███████████████████████▎        | 71kB 4.9MB/s eta 0:00:01\r\u001b[K     |██████████████████████████▋     | 81kB 5.1MB/s eta 0:00:01\r\u001b[K     |██████████████████████████████  | 92kB 5.5MB/s eta 0:00:01\r\u001b[K     |████████████████████████████████| 102kB 4.1MB/s \n",
            "\u001b[?25hCollecting combo\n",
            "  Downloading https://files.pythonhosted.org/packages/0a/2a/61b6ac584e75d8df16dc27962aa5fe99d76b09da5b6710e83d4862c84001/combo-0.1.1.tar.gz\n",
            "Requirement already satisfied: joblib in /usr/local/lib/python3.6/dist-packages (from pyod) (0.17.0)\n",
            "Requirement already satisfied: matplotlib in /usr/local/lib/python3.6/dist-packages (from pyod) (3.2.2)\n",
            "Requirement already satisfied: numpy>=1.13 in /usr/local/lib/python3.6/dist-packages (from pyod) (1.18.5)\n",
            "Requirement already satisfied: numba>=0.35 in /usr/local/lib/python3.6/dist-packages (from pyod) (0.48.0)\n",
            "Requirement already satisfied: pandas>=0.25 in /usr/local/lib/python3.6/dist-packages (from pyod) (1.1.4)\n",
            "Requirement already satisfied: scipy>=0.19.1 in /usr/local/lib/python3.6/dist-packages (from pyod) (1.4.1)\n",
            "Requirement already satisfied: scikit_learn>=0.19.1 in /usr/local/lib/python3.6/dist-packages (from pyod) (0.22.2.post1)\n",
            "Requirement already satisfied: six in /usr/local/lib/python3.6/dist-packages (from pyod) (1.15.0)\n",
            "Requirement already satisfied: statsmodels in /usr/local/lib/python3.6/dist-packages (from pyod) (0.10.2)\n",
            "Collecting suod\n",
            "\u001b[?25l  Downloading https://files.pythonhosted.org/packages/a1/87/9170cabe1b5e10a7d095c0e28f2e30e7c1886a13f063de85d3cfacc06f4b/suod-0.0.4.tar.gz (2.1MB)\n",
            "\u001b[K     |████████████████████████████████| 2.1MB 22.7MB/s \n",
            "\u001b[?25hRequirement already satisfied: kiwisolver>=1.0.1 in /usr/local/lib/python3.6/dist-packages (from matplotlib->pyod) (1.3.1)\n",
            "Requirement already satisfied: pyparsing!=2.0.4,!=2.1.2,!=2.1.6,>=2.0.1 in /usr/local/lib/python3.6/dist-packages (from matplotlib->pyod) (2.4.7)\n",
            "Requirement already satisfied: python-dateutil>=2.1 in /usr/local/lib/python3.6/dist-packages (from matplotlib->pyod) (2.8.1)\n",
            "Requirement already satisfied: cycler>=0.10 in /usr/local/lib/python3.6/dist-packages (from matplotlib->pyod) (0.10.0)\n",
            "Requirement already satisfied: llvmlite<0.32.0,>=0.31.0dev0 in /usr/local/lib/python3.6/dist-packages (from numba>=0.35->pyod) (0.31.0)\n",
            "Requirement already satisfied: setuptools in /usr/local/lib/python3.6/dist-packages (from numba>=0.35->pyod) (50.3.2)\n",
            "Requirement already satisfied: pytz>=2017.2 in /usr/local/lib/python3.6/dist-packages (from pandas>=0.25->pyod) (2018.9)\n",
            "Requirement already satisfied: patsy>=0.4.0 in /usr/local/lib/python3.6/dist-packages (from statsmodels->pyod) (0.5.1)\n",
            "Building wheels for collected packages: pyod, combo, suod\n",
            "  Building wheel for pyod (setup.py) ... \u001b[?25l\u001b[?25hdone\n",
            "  Created wheel for pyod: filename=pyod-0.8.4-cp36-none-any.whl size=112083 sha256=9854f24b4125d919dc05fb490e5ace6b2d8182a6379f12eee513e259eda65d2d\n",
            "  Stored in directory: /root/.cache/pip/wheels/ad/31/0a/c2d4ba2d066145c55f0cb2846e59b18d874cb59c5d9adc81cf\n",
            "  Building wheel for combo (setup.py) ... \u001b[?25l\u001b[?25hdone\n",
            "  Created wheel for combo: filename=combo-0.1.1-cp36-none-any.whl size=42113 sha256=6050205d8ceb3d6c595fdacdeb627814dc04a36b78f8633ace08f9ce4941bc7c\n",
            "  Stored in directory: /root/.cache/pip/wheels/55/ec/e5/a2331372c676c467e70c6646e646edf6997d5c4905b8c0f5e6\n",
            "  Building wheel for suod (setup.py) ... \u001b[?25l\u001b[?25hdone\n",
            "  Created wheel for suod: filename=suod-0.0.4-cp36-none-any.whl size=2167158 sha256=af9115fdc6b3ea648931594a8e26c3ddd2ca4a561786d1b242d169fa182af815\n",
            "  Stored in directory: /root/.cache/pip/wheels/57/55/e5/a4fca65bba231f6d0115059b589148774b41faea25b3f2aa27\n",
            "Successfully built pyod combo suod\n",
            "Installing collected packages: combo, suod, pyod\n",
            "Successfully installed combo-0.1.1 pyod-0.8.4 suod-0.0.4\n"
          ],
          "name": "stdout"
        }
      ]
    },
    {
      "cell_type": "code",
      "metadata": {
        "id": "gxBgvhA4mowO"
      },
      "source": [
        "import pandas as pd\n",
        "import numpy as np\n",
        "from numpy import percentile\n",
        "import matplotlib.pyplot as plt\n",
        "import seaborn as sns\n",
        "import matplotlib\n",
        "\n",
        "from sklearn.ensemble import IsolationForest\n",
        "\n",
        "# Scaling variables\n",
        "from sklearn.preprocessing import StandardScaler\n",
        "from sklearn.preprocessing import MinMaxScaler\n",
        "\n",
        "from pyod.models.abod import ABOD\n",
        "from pyod.models.cblof import CBLOF\n",
        "\n",
        "#from pyod.models.feature_bagging import FeatureBagging\n",
        "from pyod.models.hbos import HBOS\n",
        "from pyod.models.iforest import IForest\n",
        "from pyod.models.knn import KNN\n",
        "#from pyod.models.lof import LOF\n",
        "from scipy import stats\n",
        "\n",
        "# remove warnings to keep notebook clean\n",
        "import warnings\n",
        "warnings.filterwarnings('ignore')"
      ],
      "execution_count": 2,
      "outputs": []
    },
    {
      "cell_type": "markdown",
      "metadata": {
        "id": "WLf_c29t0ekj"
      },
      "source": [
        "## Carrega dataframe"
      ]
    },
    {
      "cell_type": "code",
      "metadata": {
        "id": "GZyPw_7RRx26",
        "outputId": "a12c00d1-f21e-4e7a-fe56-84952c5cc8bf",
        "colab": {
          "base_uri": "https://localhost:8080/",
          "height": 224
        }
      },
      "source": [
        "df_titanic = sns.load_dataset('titanic')\n",
        "df_titanic.head()"
      ],
      "execution_count": 3,
      "outputs": [
        {
          "output_type": "execute_result",
          "data": {
            "text/html": [
              "<div>\n",
              "<style scoped>\n",
              "    .dataframe tbody tr th:only-of-type {\n",
              "        vertical-align: middle;\n",
              "    }\n",
              "\n",
              "    .dataframe tbody tr th {\n",
              "        vertical-align: top;\n",
              "    }\n",
              "\n",
              "    .dataframe thead th {\n",
              "        text-align: right;\n",
              "    }\n",
              "</style>\n",
              "<table border=\"1\" class=\"dataframe\">\n",
              "  <thead>\n",
              "    <tr style=\"text-align: right;\">\n",
              "      <th></th>\n",
              "      <th>survived</th>\n",
              "      <th>pclass</th>\n",
              "      <th>sex</th>\n",
              "      <th>age</th>\n",
              "      <th>sibsp</th>\n",
              "      <th>parch</th>\n",
              "      <th>fare</th>\n",
              "      <th>embarked</th>\n",
              "      <th>class</th>\n",
              "      <th>who</th>\n",
              "      <th>adult_male</th>\n",
              "      <th>deck</th>\n",
              "      <th>embark_town</th>\n",
              "      <th>alive</th>\n",
              "      <th>alone</th>\n",
              "    </tr>\n",
              "  </thead>\n",
              "  <tbody>\n",
              "    <tr>\n",
              "      <th>0</th>\n",
              "      <td>0</td>\n",
              "      <td>3</td>\n",
              "      <td>male</td>\n",
              "      <td>22.0</td>\n",
              "      <td>1</td>\n",
              "      <td>0</td>\n",
              "      <td>7.2500</td>\n",
              "      <td>S</td>\n",
              "      <td>Third</td>\n",
              "      <td>man</td>\n",
              "      <td>True</td>\n",
              "      <td>NaN</td>\n",
              "      <td>Southampton</td>\n",
              "      <td>no</td>\n",
              "      <td>False</td>\n",
              "    </tr>\n",
              "    <tr>\n",
              "      <th>1</th>\n",
              "      <td>1</td>\n",
              "      <td>1</td>\n",
              "      <td>female</td>\n",
              "      <td>38.0</td>\n",
              "      <td>1</td>\n",
              "      <td>0</td>\n",
              "      <td>71.2833</td>\n",
              "      <td>C</td>\n",
              "      <td>First</td>\n",
              "      <td>woman</td>\n",
              "      <td>False</td>\n",
              "      <td>C</td>\n",
              "      <td>Cherbourg</td>\n",
              "      <td>yes</td>\n",
              "      <td>False</td>\n",
              "    </tr>\n",
              "    <tr>\n",
              "      <th>2</th>\n",
              "      <td>1</td>\n",
              "      <td>3</td>\n",
              "      <td>female</td>\n",
              "      <td>26.0</td>\n",
              "      <td>0</td>\n",
              "      <td>0</td>\n",
              "      <td>7.9250</td>\n",
              "      <td>S</td>\n",
              "      <td>Third</td>\n",
              "      <td>woman</td>\n",
              "      <td>False</td>\n",
              "      <td>NaN</td>\n",
              "      <td>Southampton</td>\n",
              "      <td>yes</td>\n",
              "      <td>True</td>\n",
              "    </tr>\n",
              "    <tr>\n",
              "      <th>3</th>\n",
              "      <td>1</td>\n",
              "      <td>1</td>\n",
              "      <td>female</td>\n",
              "      <td>35.0</td>\n",
              "      <td>1</td>\n",
              "      <td>0</td>\n",
              "      <td>53.1000</td>\n",
              "      <td>S</td>\n",
              "      <td>First</td>\n",
              "      <td>woman</td>\n",
              "      <td>False</td>\n",
              "      <td>C</td>\n",
              "      <td>Southampton</td>\n",
              "      <td>yes</td>\n",
              "      <td>False</td>\n",
              "    </tr>\n",
              "    <tr>\n",
              "      <th>4</th>\n",
              "      <td>0</td>\n",
              "      <td>3</td>\n",
              "      <td>male</td>\n",
              "      <td>35.0</td>\n",
              "      <td>0</td>\n",
              "      <td>0</td>\n",
              "      <td>8.0500</td>\n",
              "      <td>S</td>\n",
              "      <td>Third</td>\n",
              "      <td>man</td>\n",
              "      <td>True</td>\n",
              "      <td>NaN</td>\n",
              "      <td>Southampton</td>\n",
              "      <td>no</td>\n",
              "      <td>True</td>\n",
              "    </tr>\n",
              "  </tbody>\n",
              "</table>\n",
              "</div>"
            ],
            "text/plain": [
              "   survived  pclass     sex   age  ...  deck  embark_town  alive  alone\n",
              "0         0       3    male  22.0  ...   NaN  Southampton     no  False\n",
              "1         1       1  female  38.0  ...     C    Cherbourg    yes  False\n",
              "2         1       3  female  26.0  ...   NaN  Southampton    yes   True\n",
              "3         1       1  female  35.0  ...     C  Southampton    yes  False\n",
              "4         0       3    male  35.0  ...   NaN  Southampton     no   True\n",
              "\n",
              "[5 rows x 15 columns]"
            ]
          },
          "metadata": {
            "tags": []
          },
          "execution_count": 3
        }
      ]
    },
    {
      "cell_type": "code",
      "metadata": {
        "id": "zGqsV7kxSSCj",
        "outputId": "e0ff0d1c-ccbb-4577-d9ed-b2738a47fc70",
        "colab": {
          "base_uri": "https://localhost:8080/"
        }
      },
      "source": [
        "df_titanic.isna().sum()"
      ],
      "execution_count": 6,
      "outputs": [
        {
          "output_type": "execute_result",
          "data": {
            "text/plain": [
              "survived         0\n",
              "pclass           0\n",
              "sex              0\n",
              "age            177\n",
              "sibsp            0\n",
              "parch            0\n",
              "fare             0\n",
              "embarked         2\n",
              "class            0\n",
              "who              0\n",
              "adult_male       0\n",
              "deck           688\n",
              "embark_town      2\n",
              "alive            0\n",
              "alone            0\n",
              "dtype: int64"
            ]
          },
          "metadata": {
            "tags": []
          },
          "execution_count": 6
        }
      ]
    },
    {
      "cell_type": "code",
      "metadata": {
        "id": "YL_VQljA0gxZ",
        "outputId": "e953bac4-0c75-41be-f66f-7427ee49efcd",
        "colab": {
          "base_uri": "https://localhost:8080/",
          "height": 224
        }
      },
      "source": [
        "# Por simplicidade, vou descartando/omitindo todos os Missing Values\n",
        "df_titanic = df_titanic.dropna() # Esta não é a forma adequada! Dê o devido tratamento aos Missing Values (NaN) da base de dados!\n",
        "df_titanic.head()"
      ],
      "execution_count": 7,
      "outputs": [
        {
          "output_type": "execute_result",
          "data": {
            "text/html": [
              "<div>\n",
              "<style scoped>\n",
              "    .dataframe tbody tr th:only-of-type {\n",
              "        vertical-align: middle;\n",
              "    }\n",
              "\n",
              "    .dataframe tbody tr th {\n",
              "        vertical-align: top;\n",
              "    }\n",
              "\n",
              "    .dataframe thead th {\n",
              "        text-align: right;\n",
              "    }\n",
              "</style>\n",
              "<table border=\"1\" class=\"dataframe\">\n",
              "  <thead>\n",
              "    <tr style=\"text-align: right;\">\n",
              "      <th></th>\n",
              "      <th>survived</th>\n",
              "      <th>pclass</th>\n",
              "      <th>sex</th>\n",
              "      <th>age</th>\n",
              "      <th>sibsp</th>\n",
              "      <th>parch</th>\n",
              "      <th>fare</th>\n",
              "      <th>embarked</th>\n",
              "      <th>class</th>\n",
              "      <th>who</th>\n",
              "      <th>adult_male</th>\n",
              "      <th>deck</th>\n",
              "      <th>embark_town</th>\n",
              "      <th>alive</th>\n",
              "      <th>alone</th>\n",
              "    </tr>\n",
              "  </thead>\n",
              "  <tbody>\n",
              "    <tr>\n",
              "      <th>1</th>\n",
              "      <td>1</td>\n",
              "      <td>1</td>\n",
              "      <td>female</td>\n",
              "      <td>38.0</td>\n",
              "      <td>1</td>\n",
              "      <td>0</td>\n",
              "      <td>71.2833</td>\n",
              "      <td>C</td>\n",
              "      <td>First</td>\n",
              "      <td>woman</td>\n",
              "      <td>False</td>\n",
              "      <td>C</td>\n",
              "      <td>Cherbourg</td>\n",
              "      <td>yes</td>\n",
              "      <td>False</td>\n",
              "    </tr>\n",
              "    <tr>\n",
              "      <th>3</th>\n",
              "      <td>1</td>\n",
              "      <td>1</td>\n",
              "      <td>female</td>\n",
              "      <td>35.0</td>\n",
              "      <td>1</td>\n",
              "      <td>0</td>\n",
              "      <td>53.1000</td>\n",
              "      <td>S</td>\n",
              "      <td>First</td>\n",
              "      <td>woman</td>\n",
              "      <td>False</td>\n",
              "      <td>C</td>\n",
              "      <td>Southampton</td>\n",
              "      <td>yes</td>\n",
              "      <td>False</td>\n",
              "    </tr>\n",
              "    <tr>\n",
              "      <th>6</th>\n",
              "      <td>0</td>\n",
              "      <td>1</td>\n",
              "      <td>male</td>\n",
              "      <td>54.0</td>\n",
              "      <td>0</td>\n",
              "      <td>0</td>\n",
              "      <td>51.8625</td>\n",
              "      <td>S</td>\n",
              "      <td>First</td>\n",
              "      <td>man</td>\n",
              "      <td>True</td>\n",
              "      <td>E</td>\n",
              "      <td>Southampton</td>\n",
              "      <td>no</td>\n",
              "      <td>True</td>\n",
              "    </tr>\n",
              "    <tr>\n",
              "      <th>10</th>\n",
              "      <td>1</td>\n",
              "      <td>3</td>\n",
              "      <td>female</td>\n",
              "      <td>4.0</td>\n",
              "      <td>1</td>\n",
              "      <td>1</td>\n",
              "      <td>16.7000</td>\n",
              "      <td>S</td>\n",
              "      <td>Third</td>\n",
              "      <td>child</td>\n",
              "      <td>False</td>\n",
              "      <td>G</td>\n",
              "      <td>Southampton</td>\n",
              "      <td>yes</td>\n",
              "      <td>False</td>\n",
              "    </tr>\n",
              "    <tr>\n",
              "      <th>11</th>\n",
              "      <td>1</td>\n",
              "      <td>1</td>\n",
              "      <td>female</td>\n",
              "      <td>58.0</td>\n",
              "      <td>0</td>\n",
              "      <td>0</td>\n",
              "      <td>26.5500</td>\n",
              "      <td>S</td>\n",
              "      <td>First</td>\n",
              "      <td>woman</td>\n",
              "      <td>False</td>\n",
              "      <td>C</td>\n",
              "      <td>Southampton</td>\n",
              "      <td>yes</td>\n",
              "      <td>True</td>\n",
              "    </tr>\n",
              "  </tbody>\n",
              "</table>\n",
              "</div>"
            ],
            "text/plain": [
              "    survived  pclass     sex   age  ...  deck  embark_town  alive  alone\n",
              "1          1       1  female  38.0  ...     C    Cherbourg    yes  False\n",
              "3          1       1  female  35.0  ...     C  Southampton    yes  False\n",
              "6          0       1    male  54.0  ...     E  Southampton     no   True\n",
              "10         1       3  female   4.0  ...     G  Southampton    yes  False\n",
              "11         1       1  female  58.0  ...     C  Southampton    yes   True\n",
              "\n",
              "[5 rows x 15 columns]"
            ]
          },
          "metadata": {
            "tags": []
          },
          "execution_count": 7
        }
      ]
    },
    {
      "cell_type": "code",
      "metadata": {
        "id": "Q2oxyyQWB-uz"
      },
      "source": [
        "# Normalizar as variáveis 'age' e 'fare'\n",
        "df_titanic_ss = df_titanic.copy()\n",
        "df_titanic_ss[['fare', 'age']] = StandardScaler().fit_transform(df_titanic_ss[['fare', 'age']])"
      ],
      "execution_count": 8,
      "outputs": []
    },
    {
      "cell_type": "code",
      "metadata": {
        "id": "rAKnKtil9Oz1",
        "outputId": "816d2ac9-b422-420c-c862-b4dc8f2b1193",
        "colab": {
          "base_uri": "https://localhost:8080/"
        }
      },
      "source": [
        "# Linhas do df_titanic\n",
        "df_titanic_ss.shape"
      ],
      "execution_count": 9,
      "outputs": [
        {
          "output_type": "execute_result",
          "data": {
            "text/plain": [
              "(182, 15)"
            ]
          },
          "metadata": {
            "tags": []
          },
          "execution_count": 9
        }
      ]
    },
    {
      "cell_type": "code",
      "metadata": {
        "id": "sHSYUkEQFIwS"
      },
      "source": [
        "# Função para plotar o Boxplot\n",
        "def boxplot_sobreviveu(df, column):\n",
        "    plt.rcdefaults()\n",
        "    sns.catplot(x = 'survived', y = column, kind = \"box\", data = df, height = 4, aspect = 1.5)\n",
        "    \n",
        "    # add data points to boxplot with stripplot\n",
        "    sns.stripplot(x = 'survived', y = column, data = df, alpha = 0.3, jitter = 0.2, color = 'k');\n",
        "    plt.show()"
      ],
      "execution_count": 10,
      "outputs": []
    },
    {
      "cell_type": "markdown",
      "metadata": {
        "id": "z7F4zWltT7l6"
      },
      "source": [
        "Esta é a visão univariada da variável 'fare':"
      ]
    },
    {
      "cell_type": "code",
      "metadata": {
        "id": "y4pahkOLUX1D",
        "outputId": "b6df004e-db27-4aeb-fe6a-2cb32fed9446",
        "colab": {
          "base_uri": "https://localhost:8080/",
          "height": 204
        }
      },
      "source": [
        "df_titanic[['survived']].head()"
      ],
      "execution_count": 11,
      "outputs": [
        {
          "output_type": "execute_result",
          "data": {
            "text/html": [
              "<div>\n",
              "<style scoped>\n",
              "    .dataframe tbody tr th:only-of-type {\n",
              "        vertical-align: middle;\n",
              "    }\n",
              "\n",
              "    .dataframe tbody tr th {\n",
              "        vertical-align: top;\n",
              "    }\n",
              "\n",
              "    .dataframe thead th {\n",
              "        text-align: right;\n",
              "    }\n",
              "</style>\n",
              "<table border=\"1\" class=\"dataframe\">\n",
              "  <thead>\n",
              "    <tr style=\"text-align: right;\">\n",
              "      <th></th>\n",
              "      <th>survived</th>\n",
              "    </tr>\n",
              "  </thead>\n",
              "  <tbody>\n",
              "    <tr>\n",
              "      <th>1</th>\n",
              "      <td>1</td>\n",
              "    </tr>\n",
              "    <tr>\n",
              "      <th>3</th>\n",
              "      <td>1</td>\n",
              "    </tr>\n",
              "    <tr>\n",
              "      <th>6</th>\n",
              "      <td>0</td>\n",
              "    </tr>\n",
              "    <tr>\n",
              "      <th>10</th>\n",
              "      <td>1</td>\n",
              "    </tr>\n",
              "    <tr>\n",
              "      <th>11</th>\n",
              "      <td>1</td>\n",
              "    </tr>\n",
              "  </tbody>\n",
              "</table>\n",
              "</div>"
            ],
            "text/plain": [
              "    survived\n",
              "1          1\n",
              "3          1\n",
              "6          0\n",
              "10         1\n",
              "11         1"
            ]
          },
          "metadata": {
            "tags": []
          },
          "execution_count": 11
        }
      ]
    },
    {
      "cell_type": "code",
      "metadata": {
        "id": "o9-VgcNnFNb1",
        "outputId": "0b36001d-4dd2-4a9b-bd7a-b6ecac8e9eb6",
        "colab": {
          "base_uri": "https://localhost:8080/",
          "height": 426
        }
      },
      "source": [
        "boxplot_sobreviveu(df_titanic, 'fare')"
      ],
      "execution_count": 12,
      "outputs": [
        {
          "output_type": "display_data",
          "data": {
            "image/png": "[encoded data removed]",
            "text/plain": [
              "<Figure size 600x400 with 1 Axes>"
            ]
          },
          "metadata": {
            "tags": []
          }
        }
      ]
    },
    {
      "cell_type": "code",
      "metadata": {
        "id": "BIN9WDB1ffb9",
        "outputId": "f6e6aca9-4b1c-4cdb-a74e-b31295f3f6c8",
        "colab": {
          "base_uri": "https://localhost:8080/",
          "height": 426
        }
      },
      "source": [
        "boxplot_sobreviveu(df_titanic_ss, 'fare')"
      ],
      "execution_count": 13,
      "outputs": [
        {
          "output_type": "display_data",
          "data": {
            "image/png": "[encoded data removed]",
            "text/plain": [
              "<Figure size 600x400 with 1 Axes>"
            ]
          },
          "metadata": {
            "tags": []
          }
        }
      ]
    },
    {
      "cell_type": "code",
      "metadata": {
        "id": "8FIo9tD1FQ0u",
        "outputId": "fd06b9f0-6d6a-4746-d872-a7a8547ee52e",
        "colab": {
          "base_uri": "https://localhost:8080/",
          "height": 426
        }
      },
      "source": [
        "boxplot_sobreviveu(df_titanic, 'age')"
      ],
      "execution_count": 14,
      "outputs": [
        {
          "output_type": "display_data",
          "data": {
            "image/png": "[encoded data removed]",
            "text/plain": [
              "<Figure size 600x400 with 1 Axes>"
            ]
          },
          "metadata": {
            "tags": []
          }
        }
      ]
    },
    {
      "cell_type": "code",
      "metadata": {
        "id": "fCqj102y9Kfo",
        "outputId": "3d5e7d3a-8597-4c9f-de4b-27523c91e426",
        "colab": {
          "base_uri": "https://localhost:8080/"
        }
      },
      "source": [
        "# Descrever o dataframe, variável 'fare'\n",
        "pd.set_option('display.float_format', lambda x: '%.3f' %x)\n",
        "df_titanic_ss['fare'].describe()"
      ],
      "execution_count": 15,
      "outputs": [
        {
          "output_type": "execute_result",
          "data": {
            "text/plain": [
              "count   182.000\n",
              "mean      0.000\n",
              "std       1.003\n",
              "min      -1.035\n",
              "25%      -0.645\n",
              "50%      -0.287\n",
              "75%       0.145\n",
              "max       5.682\n",
              "Name: fare, dtype: float64"
            ]
          },
          "metadata": {
            "tags": []
          },
          "execution_count": 15
        }
      ]
    },
    {
      "cell_type": "markdown",
      "metadata": {
        "id": "RwVlK5jXe_ya"
      },
      "source": [
        "## Mostrar a frequência acumulada!! É mais informativo!!!"
      ]
    },
    {
      "cell_type": "code",
      "metadata": {
        "id": "SMcvIb1K_69n",
        "outputId": "01a73a1f-dd61-4085-890e-1204f2a646a1",
        "colab": {
          "base_uri": "https://localhost:8080/",
          "height": 472
        }
      },
      "source": [
        "plt.scatter(range(df_titanic_ss.shape[0]), np.sort(df_titanic_ss['fare'].values)) # A intenção do gráfico é ordenar os valores em df_titanic['fare'] do menor valor para o maior!\n",
        "plt.xlabel('indices')\n",
        "plt.ylabel('fares')\n",
        "plt.title(\"Distribuição da variável fare\")\n",
        "\n",
        "sns.despine()"
      ],
      "execution_count": 16,
      "outputs": [
        {
          "output_type": "display_data",
          "data": {
            "image/png": "[encoded data removed]",
            "text/plain": [
              "<Figure size 640x480 with 1 Axes>"
            ]
          },
          "metadata": {
            "tags": []
          }
        }
      ]
    },
    {
      "cell_type": "markdown",
      "metadata": {
        "id": "6nuuTtqHh0Kk"
      },
      "source": [
        "Com o gráfico acima, podemos ver quais e quantos são os pontos que estão acima de $\\mu + 3\\sigma$ --> Se usarmos o critério do z-score, todos os pontos acima deste limiar são outliers!\n",
        "\n",
        " Colocar os gráficos lado a lado: df_titanic e df_titanic_ss!!"
      ]
    },
    {
      "cell_type": "code",
      "metadata": {
        "id": "7pzTvLleGpWc",
        "outputId": "4abfcabd-2ec9-41c8-bf90-80908f2caf61",
        "colab": {
          "base_uri": "https://localhost:8080/",
          "height": 472
        }
      },
      "source": [
        "# Distribuição da variável 'fare' (após StandardScaler)\n",
        "sns.distplot(df_titanic_ss['fare'])\n",
        "plt.title(\"Distribuição da variável fare\")\n",
        "sns.despine()"
      ],
      "execution_count": 17,
      "outputs": [
        {
          "output_type": "display_data",
          "data": {
            "image/png": "[encoded data removed]",
            "text/plain": [
              "<Figure size 640x480 with 1 Axes>"
            ]
          },
          "metadata": {
            "tags": []
          }
        }
      ]
    },
    {
      "cell_type": "code",
      "metadata": {
        "id": "3Cumr43hjByz",
        "outputId": "8a7de11a-4d85-4329-9ae4-f3e3ce521d3b",
        "colab": {
          "base_uri": "https://localhost:8080/",
          "height": 472
        }
      },
      "source": [
        "# Distribuição da variável 'fare' (após StandardScaler)\n",
        "sns.distplot(df_titanic['fare'])\n",
        "plt.title(\"Distribuição da variável fare\")\n",
        "sns.despine()"
      ],
      "execution_count": 18,
      "outputs": [
        {
          "output_type": "display_data",
          "data": {
            "image/png": "[encoded data removed]",
            "text/plain": [
              "<Figure size 640x480 with 1 Axes>"
            ]
          },
          "metadata": {
            "tags": []
          }
        }
      ]
    },
    {
      "cell_type": "markdown",
      "metadata": {
        "id": "oXeTALDBk57N"
      },
      "source": [
        "### Calcular a mediana e comparar com a média."
      ]
    },
    {
      "cell_type": "code",
      "metadata": {
        "id": "vB7ik75rjJUI"
      },
      "source": [
        "df_titanic.describe()"
      ],
      "execution_count": null,
      "outputs": []
    },
    {
      "cell_type": "markdown",
      "metadata": {
        "id": "Qa28Hc3ZC6FV"
      },
      "source": [
        "___\n",
        "## Kurtosis\n",
        "> Kurtosis é uma medida estatística que define com que intensidade as caudas de uma distribuição diferem das caudas de uma distribuição Normal. Em outras palavras, a curtose identifica se as caudas de uma determinada distribuição contêm valores extremos.\n",
        ">> A Kurtosis de uma distribuição Normal padrão é igual a 3. Portanto, se Kurtosis-3 > 0, então isso é o que chamamos de excesso de Kurtosis.\n",
        ">>> **Alta Kurtosis é um indicador de que os dados possuem caudas pesadas ou outliers**.\n",
        "\n",
        "* **Dica muito importante**: Normalize os dados antes!"
      ]
    },
    {
      "cell_type": "markdown",
      "metadata": {
        "id": "ynyNHZqmD-tb"
      },
      "source": [
        "___\n",
        "## Skewness\n",
        "> É o grau de distorção da distribuição, ou seja, mede a falta de simetria na distribuição de dados, diferenciando valores extremos em uma cauda versus na outra. Uma distribuição simétrica terá uma assimetria de 0.\n",
        "\n",
        "![Skewness](https://github.com/MathMachado/Materials/blob/master/Skewness.png?raw=true)\n",
        "\n",
        "Source: [Skew and Kurtosis: 2 Important Statistics terms you need to know in Data Science](https://codeburst.io/2-important-statistics-terms-you-need-to-know-in-data-science-skewness-and-kurtosis-388fef94eeaa)"
      ]
    },
    {
      "cell_type": "markdown",
      "metadata": {
        "id": "Uoo3xVhBFixi"
      },
      "source": [
        "### Interpretando a Skewness (Rule of Thumb)\n",
        "* Se -0.5 < Skewness < 0.5: Dados razoavelmente simétricos;\n",
        "* Se -1 < Skewness < -0.5: Dados moderadamente negativa;\n",
        "* Se 0.5 < Skewness < 1: Dados moderadamente positiva;\n",
        "* Se Skewness < -1: Dados altamente negativa;\n",
        "* Se Skewness > 1: Dados altamente positiva.\n",
        "\n",
        "> **Dica**: Normalize os dados antes!"
      ]
    },
    {
      "cell_type": "code",
      "metadata": {
        "id": "oHg3nyjUTiRu"
      },
      "source": [
        "# Cálculo das medidas de Skewness e Kurtosis para 'fare'\n",
        "print(f\"Skewness: {df_titanic_ss['fare'].skew()}\")\n",
        "print(f\"Kurtosis: {df_titanic_ss['fare'].kurt()}\")"
      ],
      "execution_count": null,
      "outputs": []
    },
    {
      "cell_type": "markdown",
      "metadata": {
        "id": "V2jCZLGVH3Qu"
      },
      "source": [
        "Olhando para as medidas de Skewness e Kurtosis logo acima, qual a conclusão?"
      ]
    },
    {
      "cell_type": "code",
      "metadata": {
        "id": "0nnFS8vi_rOe"
      },
      "source": [
        "# Distribuição da variável 'age'\n",
        "df_titanic_ss['age'].describe()"
      ],
      "execution_count": null,
      "outputs": []
    },
    {
      "cell_type": "code",
      "metadata": {
        "id": "h9ZmvO1b_4sF"
      },
      "source": [
        "plt.scatter(range(df_titanic_ss.shape[0]), np.sort(df_titanic_ss['age'].values))\n",
        "plt.xlabel('index')\n",
        "plt.ylabel('age')\n",
        "plt.title(\"Distribuição da variável age\")\n",
        "sns.despine()"
      ],
      "execution_count": null,
      "outputs": []
    },
    {
      "cell_type": "code",
      "metadata": {
        "id": "GIAYrDJyCT6r"
      },
      "source": [
        "sns.distplot(df_titanic_ss['age'])\n",
        "plt.title(\"Distribuição da variável age\")\n",
        "sns.despine()"
      ],
      "execution_count": null,
      "outputs": []
    },
    {
      "cell_type": "code",
      "metadata": {
        "id": "USy48-H2UXqB"
      },
      "source": [
        "# Cálculo das medidas de Skewness e Kurtosis para 'age'\n",
        "print(f\"Skewness: {df_titanic_ss['age'].skew()}\")\n",
        "print(f\"Kurtosis: {df_titanic_ss['age'].kurt()}\")"
      ],
      "execution_count": null,
      "outputs": []
    },
    {
      "cell_type": "markdown",
      "metadata": {
        "id": "ENQaVw2lItVL"
      },
      "source": [
        "Olhando para as medidas de Skewness e Kurtosis logo acima, qual a conclusão?"
      ]
    },
    {
      "cell_type": "markdown",
      "metadata": {
        "id": "Nt0PQIjW-wXd"
      },
      "source": [
        "___\n",
        "## **Isolation Forest Region**\n",
        "* Source: [Outlier Detection with Isolation Forest](https://towardsdatascience.com/outlier-detection-with-isolation-forest-3d190448d45e)"
      ]
    },
    {
      "cell_type": "markdown",
      "metadata": {
        "id": "tM6Xht76KmUN"
      },
      "source": [
        "### Anomaly Detection para 'fare'"
      ]
    },
    {
      "cell_type": "code",
      "metadata": {
        "id": "uFuAUh5S778M",
        "colab": {
          "base_uri": "https://localhost:8080/",
          "height": 388
        },
        "outputId": "5d382ef7-3f7e-4c4b-9327-07411a267a94"
      },
      "source": [
        "# Instanciamento \n",
        "isolation_forest = IsolationForest(n_estimators = 100) \n",
        "\n",
        "# Ajustamento (fit())\n",
        "isolation_forest.fit(df_titanic['fare'].values.reshape(-1, 1))\n",
        "xx = np.linspace(df_titanic['fare'].min(), df_titanic['fare'].max(), len(df_titanic)).reshape(-1, 1)\n",
        "\n",
        "anomaly_score = isolation_forest.decision_function(xx)\n",
        "outlier = isolation_forest.predict(xx)\n",
        "plt.figure(figsize = (10, 4))\n",
        "plt.plot(xx, anomaly_score, label = 'anomaly score')\n",
        "plt.fill_between(xx.T[0], np.min(anomaly_score), np.max(anomaly_score), where = outlier == -1, color = 'r', alpha = .4, label = 'outlier region')\n",
        "plt.legend()\n",
        "plt.ylabel('anomaly score')\n",
        "plt.xlabel('fare')\n",
        "plt.show()"
      ],
      "execution_count": 19,
      "outputs": [
        {
          "output_type": "display_data",
          "data": {
            "image/png": "[encoded data removed]",
            "text/plain": [
              "<Figure size 1000x400 with 1 Axes>"
            ]
          },
          "metadata": {
            "tags": []
          }
        }
      ]
    },
    {
      "cell_type": "markdown",
      "metadata": {
        "id": "F2-nWZ3KoPJ8"
      },
      "source": [
        "**Conclusão**: anomaly_score > 0 --> Não é outliers. Do contrário, ou seja, se anomaly_score < 0 --> Outlier."
      ]
    },
    {
      "cell_type": "code",
      "metadata": {
        "id": "FkhRwo1cgYtK"
      },
      "source": [
        "# Vamos avaliar os dados do dataframe para fare > 200, por exemplo\n",
        "df_titanic.loc[df_titanic['fare'] > 200].head()"
      ],
      "execution_count": null,
      "outputs": []
    },
    {
      "cell_type": "code",
      "metadata": {
        "id": "XFbRlmrYgtTS"
      },
      "source": [
        "# Zoom na linha 27\n",
        "df_titanic.loc[27]"
      ],
      "execution_count": null,
      "outputs": []
    },
    {
      "cell_type": "markdown",
      "metadata": {
        "id": "bH4o-CL-N9Np"
      },
      "source": [
        "A região onde os dados têm baixa probabilidade de aparecer fica no lado direito da distribuição."
      ]
    },
    {
      "cell_type": "markdown",
      "metadata": {
        "id": "7HK9cBvwGOqG"
      },
      "source": [
        "### Anomaly Detection para 'age'"
      ]
    },
    {
      "cell_type": "code",
      "metadata": {
        "id": "PoDzs4DTFSY-",
        "outputId": "0c29bdc0-dc3f-4c2b-e612-4e9a42381308",
        "colab": {
          "base_uri": "https://localhost:8080/",
          "height": 388
        }
      },
      "source": [
        "isolation_forest = IsolationForest(n_estimators = 100)\n",
        "isolation_forest.fit(df_titanic['age'].values.reshape(-1, 1))\n",
        "xx = np.linspace(df_titanic['age'].min(), df_titanic['age'].max(), len(df_titanic)).reshape(-1, 1)\n",
        "anomaly_score = isolation_forest.decision_function(xx)\n",
        "outlier = isolation_forest.predict(xx)\n",
        "plt.figure(figsize = (10, 4))\n",
        "plt.plot(xx, anomaly_score, label='anomaly score')\n",
        "plt.fill_between(xx.T[0], np.min(anomaly_score), np.max(anomaly_score), where = outlier == -1, color = 'r', alpha = .4, label = 'outlier region')\n",
        "plt.legend()\n",
        "plt.ylabel('anomaly score')\n",
        "plt.xlabel('age')\n",
        "plt.show();"
      ],
      "execution_count": 20,
      "outputs": [
        {
          "output_type": "display_data",
          "data": {
            "image/png": "[encoded data removed]",
            "text/plain": [
              "<Figure size 1000x400 with 1 Axes>"
            ]
          },
          "metadata": {
            "tags": []
          }
        }
      ]
    },
    {
      "cell_type": "markdown",
      "metadata": {
        "id": "GivF2cSFS208"
      },
      "source": [
        "Observe no gráfico acima que há duas regiões em que os dados têm baixa probabilidade de aparecer: uma no lado esquerdo da distribuição, outra no lado direito da distribuição."
      ]
    },
    {
      "cell_type": "code",
      "metadata": {
        "id": "XtizVySOlPUT"
      },
      "source": [
        "# Avaliando os dados da cauda esquerda\n",
        "df_titanic.loc[df_titanic['age'] < 15].head()"
      ],
      "execution_count": null,
      "outputs": []
    },
    {
      "cell_type": "code",
      "metadata": {
        "id": "YGnZlzDDlyZO"
      },
      "source": [
        "# Zoom na linha 3\n",
        "df_titanic.loc[10]"
      ],
      "execution_count": null,
      "outputs": []
    },
    {
      "cell_type": "code",
      "metadata": {
        "id": "YVhBJua_sG-u"
      },
      "source": [
        "# Avaliando dados da cauda direita\n",
        "df_titanic.loc[df_titanic['age'] > 65].head()"
      ],
      "execution_count": null,
      "outputs": []
    },
    {
      "cell_type": "code",
      "metadata": {
        "id": "LRkUWSletcq-"
      },
      "source": [
        "# Zoom na linha 96\n",
        "df_titanic.loc[96]"
      ],
      "execution_count": null,
      "outputs": []
    },
    {
      "cell_type": "code",
      "metadata": {
        "id": "JQKECo0BSefE"
      },
      "source": [
        "sns.regplot(x = \"age\", y = \"fare\", data = df_titanic_ss)\n",
        "sns.despine()"
      ],
      "execution_count": null,
      "outputs": []
    },
    {
      "cell_type": "code",
      "metadata": {
        "id": "AChZpGY4Ghc9"
      },
      "source": [
        "cols = ['fare', 'age']\n",
        "df_titanic_ss[cols].head()"
      ],
      "execution_count": null,
      "outputs": []
    },
    {
      "cell_type": "markdown",
      "metadata": {
        "id": "s2tddgHcUiAF"
      },
      "source": [
        "___\n",
        "## **CBLOF - Cluster-based Local Outlier Factor**"
      ]
    },
    {
      "cell_type": "code",
      "metadata": {
        "id": "fbJ7k1bbbfr4"
      },
      "source": [
        "# Normalizar as variáveis 'age' e 'fare'\n",
        "df_titanic_ss = df_titanic.copy()\n",
        "df_titanic_ss[['fare', 'age']] = MinMaxScaler().fit_transform(df_titanic_ss[['fare', 'age']])"
      ],
      "execution_count": null,
      "outputs": []
    },
    {
      "cell_type": "code",
      "metadata": {
        "id": "il0LFdCFJEsw"
      },
      "source": [
        "X1 = df_titanic_ss['age'].values.reshape(-1, 1)\n",
        "X2 = df_titanic_ss['fare'].values.reshape(-1, 1)\n",
        "X = np.concatenate((X1,X2), axis = 1)"
      ],
      "execution_count": null,
      "outputs": []
    },
    {
      "cell_type": "code",
      "metadata": {
        "id": "QtBn0u7CKlS6"
      },
      "source": [
        "outliers_fraction = 0.01\n",
        "xx , yy = np.meshgrid(np.linspace(0, 1, 100), np.linspace(0, 1, 100))\n",
        "clf = CBLOF(contamination = outliers_fraction, check_estimator = False, random_state = 0)\n",
        "clf.fit(X)\n",
        "# predict raw anomaly score\n",
        "scores_pred = clf.decision_function(X) * -1\n",
        "        \n",
        "# prediction of a datapoint category outlier or inlier\n",
        "y_pred = clf.predict(X)\n",
        "n_inliers = len(y_pred) - np.count_nonzero(y_pred)\n",
        "n_outliers = np.count_nonzero(y_pred == 1)\n",
        "\n",
        "plt.figure(figsize = (8, 8))\n",
        "\n",
        "df1 = df_titanic_ss\n",
        "df1['outlier'] = y_pred.tolist()\n",
        "\n",
        "inliers_fare = np.array(df1['fare'][df1['outlier'] == 0]).reshape(-1,1)\n",
        "inliers_age = np.array(df1['age'][df1['outlier'] == 0]).reshape(-1,1)\n",
        "    \n",
        "outliers_fare = df1['fare'][df1['outlier'] == 1].values.reshape(-1,1)\n",
        "outliers_age = df1['age'][df1['outlier'] == 1].values.reshape(-1,1)\n",
        "         \n",
        "print('OUTLIERS:',n_outliers,'INLIERS:',n_inliers)\n",
        "        \n",
        "# Use threshold para definir um ponto como inlier ou outlier\n",
        "# threshold = stats.scoreatpercentile(scores_pred,100 * outliers_fraction)\n",
        "threshold = percentile(scores_pred, 100 * outliers_fraction)\n",
        "        \n",
        "# Calcula o Anomaly Score\n",
        "Z = clf.decision_function(np.c_[xx.ravel(), yy.ravel()]) * -1\n",
        "Z = Z.reshape(xx.shape)\n",
        "\n",
        "plt.contourf(xx, yy, Z, levels = np.linspace(Z.min(), threshold, 7), cmap = plt.cm.Blues_r)\n",
        "        \n",
        "# Desenha a linha vermelha a partir do qual Anomaly Score = thresold\n",
        "a = plt.contour(xx, yy, Z, levels = [threshold], linewidths = 2, colors = 'red')\n",
        "        \n",
        "# Região Azul onde threshold < Anomaly Score < max(Anomaly score)\n",
        "plt.contourf(xx, yy, Z, levels= [threshold, Z.max()], colors='orange')\n",
        "b = plt.scatter(inliers_fare, inliers_age, c = 'white', s = 20, edgecolor = 'k')\n",
        "    \n",
        "c = plt.scatter(outliers_fare, outliers_age, c = 'black', s = 20, edgecolor = 'k')\n",
        "       \n",
        "plt.axis('tight')   \n",
        "plt.legend([a.collections[0], b, c], ['learned decision function', 'inliers', 'outliers'],\n",
        "           prop = matplotlib.font_manager.FontProperties(size = 10), loc = 'upper center', frameon = False, bbox_to_anchor = (0.5, -0.05),\n",
        "          fancybox = True, shadow = True, ncol = 5)\n",
        "      \n",
        "plt.xlim((0, 1))\n",
        "plt.ylim((0, 1))\n",
        "plt.title('Cluster-based Local Outlier Factor (CBLOF)')\n",
        "plt.show()"
      ],
      "execution_count": null,
      "outputs": []
    },
    {
      "cell_type": "code",
      "metadata": {
        "id": "O7NmDgjRm5EE"
      },
      "source": [
        "# Zoom em alguns outliers...\n",
        "df1.loc[df1['outlier'] == 1].head()"
      ],
      "execution_count": null,
      "outputs": []
    },
    {
      "cell_type": "code",
      "metadata": {
        "id": "HIRxOj93nVXu"
      },
      "source": [
        "# Zoom na linha 679\n",
        "df_titanic.loc[679]"
      ],
      "execution_count": null,
      "outputs": []
    },
    {
      "cell_type": "code",
      "metadata": {
        "id": "euxK-4K1oKs0"
      },
      "source": [
        "# Algumas medidas para compararmos\n",
        "df_resumo = df_titanic.groupby('sex').agg({'age': ['mean'], 'fare': ['mean']}).round(0)\n",
        "df_resumo"
      ],
      "execution_count": null,
      "outputs": []
    },
    {
      "cell_type": "code",
      "metadata": {
        "id": "nuNxqgWMtMHC"
      },
      "source": [
        "# Média Geral de 'age'\n",
        "round(df_titanic['age'].mean())"
      ],
      "execution_count": null,
      "outputs": []
    },
    {
      "cell_type": "code",
      "metadata": {
        "id": "bLIZcvyuuU2R"
      },
      "source": [
        "# Média Geral de 'fare'\n",
        "round(df_titanic['fare'].mean())"
      ],
      "execution_count": null,
      "outputs": []
    },
    {
      "cell_type": "markdown",
      "metadata": {
        "id": "fFd-D1HTVhE7"
      },
      "source": [
        "___\n",
        "## **HBOS - Histogram-based Outlier Detection**"
      ]
    },
    {
      "cell_type": "code",
      "metadata": {
        "id": "Q5Hh5iMEXuhM"
      },
      "source": [
        "outliers_fraction = 0.01\n",
        "xx , yy = np.meshgrid(np.linspace(0, 1, 100), np.linspace(0, 1, 100))\n",
        "clf = HBOS(contamination = outliers_fraction)\n",
        "clf.fit(X)\n",
        "\n",
        "# predict raw anomaly score\n",
        "scores_pred = clf.decision_function(X) * -1\n",
        "        \n",
        "# prediction of a datapoint category outlier or inlier\n",
        "y_pred = clf.predict(X)\n",
        "n_inliers = len(y_pred) - np.count_nonzero(y_pred)\n",
        "n_outliers = np.count_nonzero(y_pred == 1)\n",
        "plt.figure(figsize = (8, 8))\n",
        "\n",
        "# copy of dataframe\n",
        "df1 = df_titanic_ss\n",
        "df1['outlier'] = y_pred.tolist()\n",
        "    \n",
        "inliers_fare = np.array(df1['fare'][df1['outlier'] == 0]).reshape(-1, 1)\n",
        "inliers_age = np.array(df1['age'][df1['outlier'] == 0]).reshape(-1, 1)\n",
        "    \n",
        "outliers_fare = df1['fare'][df1['outlier'] == 1].values.reshape(-1, 1)\n",
        "outliers_age = df1['age'][df1['outlier'] == 1].values.reshape(-1, 1)\n",
        "         \n",
        "print('OUTLIERS:', n_outliers, 'INLIERS:', n_inliers)\n",
        "        \n",
        "# threshold define se um ponto será outlier ou inlier\n",
        "threshold = percentile(scores_pred, 100 * outliers_fraction)\n",
        "        \n",
        "# Calcula o Anomaly score\n",
        "Z = clf.decision_function(np.c_[xx.ravel(), yy.ravel()]) * -1\n",
        "Z = Z.reshape(xx.shape)\n",
        "\n",
        "# Define a região azul tal que min(Anomaly score) < threshold\n",
        "plt.contourf(xx, yy, Z, levels = np.linspace(Z.min(), threshold, 7), cmap = plt.cm.Blues_r)\n",
        "        \n",
        "# Desenha a linha a partir do queal Anomaly score = thresold\n",
        "a = plt.contour(xx, yy, Z, levels = [threshold], linewidths = 2, colors = 'red')\n",
        "        \n",
        "# Define a região laranja a partir do qual threshold < Anomaly score < max(Anomaly score)\n",
        "plt.contourf(xx, yy, Z, levels = [threshold, Z.max()],colors='orange')\n",
        "b = plt.scatter(inliers_fare, inliers_age, c='white',s=20, edgecolor='k')\n",
        "    \n",
        "c = plt.scatter(outliers_fare, outliers_age, c='black',s=20, edgecolor='k')\n",
        "       \n",
        "plt.axis('tight')  \n",
        "     \n",
        "plt.legend([a.collections[0], b, c], ['learned decision function', 'inliers', 'outliers'],\n",
        "           prop=matplotlib.font_manager.FontProperties(size = 10), loc ='upper center', frameon = False, bbox_to_anchor = (0.5, -0.05),\n",
        "          fancybox = True, shadow = True, ncol = 5)\n",
        "      \n",
        "plt.xlim((0, 1))\n",
        "plt.ylim((0, 1))\n",
        "plt.title('Histogram-base Outlier Detection (HBOS)')\n",
        "plt.show();"
      ],
      "execution_count": null,
      "outputs": []
    },
    {
      "cell_type": "code",
      "metadata": {
        "id": "gHRoON0BnLVb"
      },
      "source": [
        "# Zoom em alguns outliers...\n",
        "df1.loc[df1['outlier'] == 1].head()"
      ],
      "execution_count": null,
      "outputs": []
    },
    {
      "cell_type": "code",
      "metadata": {
        "id": "YblU2tnxnXi7"
      },
      "source": [
        "# Zoom na linha 689\n",
        "df_titanic.loc[689]"
      ],
      "execution_count": null,
      "outputs": []
    },
    {
      "cell_type": "code",
      "metadata": {
        "id": "AkWj5aQ-uzxB"
      },
      "source": [
        "# Algumas medidas para compararmos\n",
        "df_resumo = df_titanic.groupby('sex').agg({'age': ['mean'], 'fare': ['mean']}).round(0)\n",
        "df_resumo"
      ],
      "execution_count": null,
      "outputs": []
    },
    {
      "cell_type": "code",
      "metadata": {
        "id": "EVy5NDrFujgD"
      },
      "source": [
        "# Média Geral de 'age'\n",
        "round(df_titanic['age'].mean())"
      ],
      "execution_count": null,
      "outputs": []
    },
    {
      "cell_type": "code",
      "metadata": {
        "id": "Hgcp_LU6ujgJ"
      },
      "source": [
        "# Média Geral de 'fare'\n",
        "round(df_titanic['fare'].mean())"
      ],
      "execution_count": null,
      "outputs": []
    },
    {
      "cell_type": "markdown",
      "metadata": {
        "id": "KyPUT9JmWeN-"
      },
      "source": [
        "___\n",
        "## **Isolation Forest**"
      ]
    },
    {
      "cell_type": "code",
      "metadata": {
        "id": "Lrx85bG0YOqM"
      },
      "source": [
        "outliers_fraction = 0.01\n",
        "xx , yy = np.meshgrid(np.linspace(0, 1, 100), np.linspace(0, 1, 100))\n",
        "clf = IForest(contamination = outliers_fraction,random_state = 0)\n",
        "clf.fit(X)\n",
        "# predict raw anomaly score\n",
        "scores_pred = clf.decision_function(X) * -1\n",
        "        \n",
        "# prediction of a datapoint category outlier or inlier\n",
        "y_pred = clf.predict(X)\n",
        "n_inliers = len(y_pred) - np.count_nonzero(y_pred)\n",
        "n_outliers = np.count_nonzero(y_pred == 1)\n",
        "plt.figure(figsize = (8, 8))\n",
        "# copy of dataframe\n",
        "df1 = df_titanic_ss\n",
        "df1['outlier'] = y_pred.tolist()\n",
        "    \n",
        "# fare - inlier feature 1,  age - inlier feature 2\n",
        "inliers_fare = np.array(df1['fare'][df1['outlier'] == 0]).reshape(-1,1)\n",
        "inliers_age = np.array(df1['age'][df1['outlier'] == 0]).reshape(-1,1)\n",
        "    \n",
        "# fare - outlier feature 1, age - outlier feature 2\n",
        "outliers_fare = df1['fare'][df1['outlier'] == 1].values.reshape(-1,1)\n",
        "outliers_age = df1['age'][df1['outlier'] == 1].values.reshape(-1,1)\n",
        "         \n",
        "print('OUTLIERS: ', n_outliers,'INLIERS: ', n_inliers)\n",
        "        \n",
        "# threshold value to consider a datapoint inlier or outlier\n",
        "threshold = percentile(scores_pred, 100 * outliers_fraction)\n",
        "        \n",
        "# decision function calculates the raw anomaly score for every point\n",
        "Z = clf.decision_function(np.c_[xx.ravel(), yy.ravel()]) * -1\n",
        "Z = Z.reshape(xx.shape)\n",
        "# fill blue map colormap from minimum anomaly score to threshold value\n",
        "plt.contourf(xx, yy, Z, levels=np.linspace(Z.min(), threshold, 7),cmap=plt.cm.Blues_r)\n",
        "        \n",
        "# draw red contour line where anomaly score is equal to thresold\n",
        "a = plt.contour(xx, yy, Z, levels= [threshold],linewidths=2, colors='red')\n",
        "        \n",
        "# fill orange contour lines where range of anomaly score is from threshold to maximum anomaly score\n",
        "plt.contourf(xx, yy, Z, levels= [threshold, Z.max()],colors='orange')\n",
        "b = plt.scatter(inliers_fare, inliers_age, c='white',s=20, edgecolor='k')\n",
        "    \n",
        "c = plt.scatter(outliers_fare, outliers_age, c='black',s=20, edgecolor='k')\n",
        "       \n",
        "plt.axis('tight')\n",
        "plt.legend([a.collections[0], b,c], ['learned decision function', 'inliers', 'outliers'],\n",
        "           prop=matplotlib.font_manager.FontProperties(size = 10), loc='upper center', frameon= False, bbox_to_anchor = (0.5, -0.05),\n",
        "          fancybox = True, shadow = True, ncol=5)\n",
        "      \n",
        "plt.xlim((0, 1))\n",
        "plt.ylim((0, 1))\n",
        "plt.title('Isolation Forest')\n",
        "plt.show();"
      ],
      "execution_count": null,
      "outputs": []
    },
    {
      "cell_type": "code",
      "metadata": {
        "id": "HLVraGcCnNTA"
      },
      "source": [
        "# Zoom em alguns outliers...\n",
        "df1.loc[df1['outlier'] == 1].head()"
      ],
      "execution_count": null,
      "outputs": []
    },
    {
      "cell_type": "code",
      "metadata": {
        "id": "y0WBmFOonZKY"
      },
      "source": [
        "# Zoom na linha 679\n",
        "df_titanic.loc[679]"
      ],
      "execution_count": null,
      "outputs": []
    },
    {
      "cell_type": "code",
      "metadata": {
        "id": "auSy5b6Du3PH"
      },
      "source": [
        "# Algumas medidas para compararmos\n",
        "df_resumo = df_titanic.groupby('sex').agg({'age': ['mean'], 'fare': ['mean']}).round(0)\n",
        "df_resumo"
      ],
      "execution_count": null,
      "outputs": []
    },
    {
      "cell_type": "code",
      "metadata": {
        "id": "fIQg2D6fuoSG"
      },
      "source": [
        "# Média Geral de 'age'\n",
        "round(df_titanic['age'].mean())"
      ],
      "execution_count": null,
      "outputs": []
    },
    {
      "cell_type": "code",
      "metadata": {
        "id": "pNUds1oDuoSO"
      },
      "source": [
        "# Média Geral de 'fare'\n",
        "round(df_titanic['fare'].mean())"
      ],
      "execution_count": null,
      "outputs": []
    },
    {
      "cell_type": "markdown",
      "metadata": {
        "id": "QbpzXB2RV4sq"
      },
      "source": [
        "___\n",
        "## **KNN - K-Nearest Neighbors**"
      ]
    },
    {
      "cell_type": "code",
      "metadata": {
        "id": "6gtIWWbRYxEj"
      },
      "source": [
        "outliers_fraction = 0.01\n",
        "xx , yy = np.meshgrid(np.linspace(0, 1, 100), np.linspace(0, 1, 100))\n",
        "clf = KNN(contamination = outliers_fraction)\n",
        "clf.fit(X)\n",
        "# predict raw anomaly score\n",
        "scores_pred = clf.decision_function(X) * -1\n",
        "        \n",
        "# prediction of a datapoint category outlier or inlier\n",
        "y_pred = clf.predict(X)\n",
        "n_inliers = len(y_pred) - np.count_nonzero(y_pred)\n",
        "n_outliers = np.count_nonzero(y_pred == 1)\n",
        "plt.figure(figsize = (8, 8))\n",
        "# copy of dataframe\n",
        "df1 = df_titanic_ss\n",
        "df1['outlier'] = y_pred.tolist()\n",
        "    \n",
        "inliers_fare = np.array(df1['fare'][df1['outlier'] == 0]).reshape(-1,1)\n",
        "inliers_age = np.array(df1['age'][df1['outlier'] == 0]).reshape(-1,1)\n",
        "    \n",
        "outliers_fare = df1['fare'][df1['outlier'] == 1].values.reshape(-1,1)\n",
        "outliers_age = df1['age'][df1['outlier'] == 1].values.reshape(-1,1)\n",
        "         \n",
        "print('OUTLIERS: ',n_outliers, 'INLIERS: ', n_inliers)\n",
        "        \n",
        "# threshold value to consider a datapoint inlier or outlier\n",
        "threshold = percentile(scores_pred, 100 * outliers_fraction)\n",
        "        \n",
        "# decision function calculates the raw anomaly score for every point\n",
        "Z = clf.decision_function(np.c_[xx.ravel(), yy.ravel()]) * -1\n",
        "Z = Z.reshape(xx.shape)\n",
        "# fill blue map colormap from minimum anomaly score to threshold value\n",
        "plt.contourf(xx, yy, Z, levels=np.linspace(Z.min(), threshold, 7),cmap=plt.cm.Blues_r)\n",
        "        \n",
        "# draw red contour line where anomaly score is equal to thresold\n",
        "a = plt.contour(xx, yy, Z, levels= [threshold],linewidths=2, colors='red')\n",
        "        \n",
        "# fill orange contour lines where range of anomaly score is from threshold to maximum anomaly score\n",
        "plt.contourf(xx, yy, Z, levels= [threshold, Z.max()],colors='orange')\n",
        "b = plt.scatter(inliers_fare, inliers_age, c='white',s=20, edgecolor='k')\n",
        "    \n",
        "c = plt.scatter(outliers_fare, outliers_age, c='black',s=20, edgecolor='k')\n",
        "       \n",
        "plt.axis('tight')  \n",
        "   \n",
        "plt.legend([a.collections[0], b,c], ['learned decision function', 'inliers', 'outliers'],\n",
        "           prop=matplotlib.font_manager.FontProperties(size=10), loc='upper center', frameon= False, bbox_to_anchor = (0.5, -0.05),\n",
        "          fancybox = True, shadow = True, ncol = 5)\n",
        "      \n",
        "plt.xlim((0, 1))\n",
        "plt.ylim((0, 1))\n",
        "plt.title('K-Nearest Neighbors (KNN)')\n",
        "plt.show();"
      ],
      "execution_count": null,
      "outputs": []
    },
    {
      "cell_type": "code",
      "metadata": {
        "id": "6B-L7MwXg25Z"
      },
      "source": [
        "df1.head()"
      ],
      "execution_count": null,
      "outputs": []
    },
    {
      "cell_type": "code",
      "metadata": {
        "id": "gvXGH0BHBBNN"
      },
      "source": [
        "# Zoom em alguns outliers...\n",
        "df1.loc[df1['outlier'] == 1].head()"
      ],
      "execution_count": null,
      "outputs": []
    },
    {
      "cell_type": "code",
      "metadata": {
        "id": "MYbNaaO7D3NY"
      },
      "source": [
        "# Zoom na linha 679\n",
        "df_titanic.loc[679]"
      ],
      "execution_count": null,
      "outputs": []
    },
    {
      "cell_type": "code",
      "metadata": {
        "id": "-juEvWvru5jp"
      },
      "source": [
        "# Algumas medidas para compararmos\n",
        "df_resumo = df_titanic.groupby('sex').agg({'age': ['mean'], 'fare': ['mean']}).round(0)\n",
        "df_resumo"
      ],
      "execution_count": null,
      "outputs": []
    },
    {
      "cell_type": "code",
      "metadata": {
        "id": "B6NXG6oDusSg"
      },
      "source": [
        "# Média Geral de 'age'\n",
        "round(df_titanic['age'].mean())"
      ],
      "execution_count": null,
      "outputs": []
    },
    {
      "cell_type": "code",
      "metadata": {
        "id": "cgHJb3iBusSl"
      },
      "source": [
        "# Média Geral de 'fare'\n",
        "round(df_titanic['fare'].mean())"
      ],
      "execution_count": null,
      "outputs": []
    },
    {
      "cell_type": "markdown",
      "metadata": {
        "id": "1w7MIkoAG2Qr"
      },
      "source": [
        "___\n",
        "# **Exercícios**\n",
        "Para cada um dos dataframes a seguir, faça uma análise de outlier utilizando uma das técnicas apresentadas e explique seus resultados."
      ]
    },
    {
      "cell_type": "markdown",
      "metadata": {
        "id": "Ep_Z3iQIG56r"
      },
      "source": [
        "## Exercício 1 - Predict Breast Cancer"
      ]
    },
    {
      "cell_type": "code",
      "metadata": {
        "id": "v-Lvzrt7HN2l"
      },
      "source": [
        "import pandas as pd\n",
        "import numpy as np\n",
        "from sklearn.datasets import load_breast_cancer\n",
        "\n",
        "cancer = load_breast_cancer()\n",
        "X = cancer['data']\n",
        "y = cancer['target']\n",
        "\n",
        "df_cancer = pd.DataFrame(np.c_[X, y], columns= np.append(cancer['feature_names'], ['target']))\n",
        "df_cancer['target'] = df_cancer['target'].map({0: 'malign', 1: 'benign'})\n",
        "df_cancer.head()"
      ],
      "execution_count": null,
      "outputs": []
    },
    {
      "cell_type": "markdown",
      "metadata": {
        "id": "cEHLrU0gHRtu"
      },
      "source": [
        "## Exercício 2 - Boston Housing Price"
      ]
    },
    {
      "cell_type": "code",
      "metadata": {
        "id": "8G9GZnubHYjy"
      },
      "source": [
        "from sklearn.datasets import load_boston\n",
        "\n",
        "boston = load_boston()\n",
        "X = boston['data']\n",
        "y = boston['target']\n",
        "\n",
        "df_boston = pd.DataFrame(np.c_[X, y], columns = np.append(boston['feature_names'], ['target']))\n",
        "df_boston.head()"
      ],
      "execution_count": null,
      "outputs": []
    },
    {
      "cell_type": "markdown",
      "metadata": {
        "id": "QlAdIYfmHaE8"
      },
      "source": [
        "## Exercício 3 - Iris\n",
        "* [Aqui](https://en.wikipedia.org/wiki/Iris_flower_data_set) você obterá mais informações sobre o dataframe iris."
      ]
    },
    {
      "cell_type": "code",
      "metadata": {
        "id": "Rke4C3wFHfYU"
      },
      "source": [
        "from sklearn.datasets import load_iris\n",
        "\n",
        "iris = load_iris()\n",
        "X= iris['data']\n",
        "y= iris['target']\n",
        "\n",
        "df_iris = pd.DataFrame(np.c_[X, y], columns = np.append(iris['feature_names'], ['target']))\n",
        "df_iris['target'] = df_iris['target'].map({0: 'setosa', 1: 'versicolor', 2: 'virginica'})\n",
        "df_iris.head()"
      ],
      "execution_count": null,
      "outputs": []
    },
    {
      "cell_type": "markdown",
      "metadata": {
        "id": "6qn3gC4NHj-p"
      },
      "source": [
        "## Exercícios 4 - Diabetes"
      ]
    },
    {
      "cell_type": "code",
      "metadata": {
        "id": "P-esq5TSHnf6"
      },
      "source": [
        "from sklearn.datasets import load_diabetes\n",
        "\n",
        "diabetes = load_diabetes()\n",
        "X = diabetes['data']\n",
        "y = diabetes['target']\n",
        "\n",
        "df_diabetes = pd.DataFrame(np.c_[X, y], columns = np.append(diabetes['feature_names'], ['target']))\n",
        "df_diabetes.head()"
      ],
      "execution_count": null,
      "outputs": []
    }
  ]
}